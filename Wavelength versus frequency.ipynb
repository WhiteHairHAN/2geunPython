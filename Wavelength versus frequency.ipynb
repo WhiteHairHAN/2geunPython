{
 "cells": [
  {
   "cell_type": "code",
   "execution_count": null,
   "metadata": {},
   "outputs": [],
   "source": [
    "print (\"This script can convert wavelengths to frequencies or vice versa.\")\n",
    "#sol = 299792458.00 #this is the speed of light in m/s\n",
    "sol = 300000000.00 #this is the speed of light in m/s"
   ]
  },
  {
   "cell_type": "code",
   "execution_count": 7,
   "metadata": {},
   "outputs": [
    {
     "name": "stdout",
     "output_type": "stream",
     "text": [
      "Ok, Please enter your wavelength in Metres. (do not use scientifi)1561561561\n",
      "1561561561.0\n",
      "the frequency is 0.19211538468447226hz\n"
     ]
    }
   ],
   "source": [
    "#sol = 300000000.00\n",
    "wavelength = float(input(\"Ok, Please enter your wavelength in Metres. (do not use scientifi)\"))\n",
    "print(wavelength)\n",
    "answerfreq = sol / wavelength\n",
    "print (\"the frequency is %rhz\" % answerfreq)"
   ]
  },
  {
   "cell_type": "code",
   "execution_count": 5,
   "metadata": {},
   "outputs": [],
   "source": [
    "def wavelength():\n",
    "    wavelength = float(input(\"Ok, Please enter your wavelength in Metres. (do not use scientifi)\"))\n",
    "    answerfreq = sol / wavelength\n",
    "    print (\"the frequency is %rhz\" % answerfreq)\n",
    "    if wavelength <= 1000 and wavelength >= 0.01:\n",
    "        print (\"Radio Wave\")\n",
    "    elif wavelength <= 0.01 and wavelength >= 0.00001:\n",
    "        print (\"Microwave\")\n",
    "    elif wavelength <= 0.00001 and wavelength >= 0.0000005:\n",
    "        print (\"Infra Red\")\n",
    "    elif wavelength <= 0.0000005 and wavelength >= 0.00000001:\n",
    "        print (\"Visible Light\")\n",
    "    elif wavelength <= 0.00000001 and wavelength >= 0.0000000001:\n",
    "        print (\"Ultra Violet\")\n",
    "    elif wavelength <= 0.0000000001 and wavelength >= 0.000000000001:\n",
    "        print (\"X-Rays\")\n",
    "    elif wavelength <= 0.000000000001:\n",
    "        print (\"Gamma Rays\")\n",
    "    else:\n",
    "        print (\"not an existing band\")"
   ]
  },
  {
   "cell_type": "code",
   "execution_count": 14,
   "metadata": {},
   "outputs": [
    {
     "ename": "TypeError",
     "evalue": "'float' object is not callable",
     "output_type": "error",
     "traceback": [
      "\u001b[1;31m---------------------------------------------------------------------------\u001b[0m",
      "\u001b[1;31mTypeError\u001b[0m                                 Traceback (most recent call last)",
      "\u001b[1;32m<ipython-input-14-467a74a5f304>\u001b[0m in \u001b[0;36m<module>\u001b[1;34m\u001b[0m\n\u001b[1;32m----> 1\u001b[1;33m \u001b[0mwavelength\u001b[0m\u001b[1;33m(\u001b[0m\u001b[1;33m)\u001b[0m\u001b[1;33m\u001b[0m\u001b[1;33m\u001b[0m\u001b[0m\n\u001b[0m",
      "\u001b[1;31mTypeError\u001b[0m: 'float' object is not callable"
     ]
    }
   ],
   "source": [
    "wavelength()"
   ]
  },
  {
   "cell_type": "code",
   "execution_count": 11,
   "metadata": {},
   "outputs": [],
   "source": [
    "def frequency():\n",
    "    frequency = float(input(\"Ok, Please enter your frequency in Hz. (do not use scientific notation)\"))\n",
    "    answerlamda = sol / frequency\n",
    "    print (\"the wavelength is %rm \" % answerlamda)\n",
    "    if answerlamda >= 1000:\n",
    "        print (\"Radio Wave\")\n",
    "    elif answerlamda in range (0.01, 0.00001):\n",
    "        print (\"Microwave\")\n",
    "    elif answerlamda in range (0.00001, 0.0000005):\n",
    "        print (\"Infra Red\")\n",
    "    elif answerlamda in range (0.0000005, 0.00000001):\n",
    "        print (\"Visible Light\")\n",
    "    elif answerlamda in range (0.00000001, 0.0000000001):\n",
    "        print (\"Ultra Violet\")\n",
    "    elif answerlamda in range (0.0000000001, 0.000000000001):\n",
    "        print (\"X-Rays\")\n",
    "    elif answerlamda <= 0.000000000001:\n",
    "        print (\"Gamma Rays\")\n",
    "    else:\n",
    "        print (\"not an existing band\")"
   ]
  },
  {
   "cell_type": "code",
   "execution_count": 13,
   "metadata": {},
   "outputs": [
    {
     "name": "stdout",
     "output_type": "stream",
     "text": [
      "Ok, Please enter your frequency in Hz. (do not use scientific notation)0.525622\n",
      "the wavelength is 570752365.7685561m \n",
      "Radio Wave\n"
     ]
    }
   ],
   "source": [
    "frequency()"
   ]
  }
 ],
 "metadata": {
  "kernelspec": {
   "display_name": "Python 3",
   "language": "python",
   "name": "python3"
  },
  "language_info": {
   "codemirror_mode": {
    "name": "ipython",
    "version": 3
   },
   "file_extension": ".py",
   "mimetype": "text/x-python",
   "name": "python",
   "nbconvert_exporter": "python",
   "pygments_lexer": "ipython3",
   "version": "3.7.6"
  }
 },
 "nbformat": 4,
 "nbformat_minor": 4
}
