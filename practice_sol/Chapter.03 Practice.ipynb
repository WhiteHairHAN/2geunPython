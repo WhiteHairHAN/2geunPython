{
 "cells": [
  {
   "cell_type": "code",
   "execution_count": 2,
   "metadata": {},
   "outputs": [
    {
     "name": "stdout",
     "output_type": "stream",
     "text": [
      "x:20\n",
      "y:30\n",
      "두수의 합 50\n",
      "두수의 차 -10\n",
      "두수의 곱 600\n",
      "두수의 평균 25.0\n",
      "큰수 30\n",
      "작은수 20\n"
     ]
    }
   ],
   "source": [
    "#chapter3\n",
    "#3-1. 사용자로부터 두개의 정수를 받아서 정수의 합, 차, 곱, 평균, 큰 수, 작은 수, 화면에 출력하는 프로그램\n",
    "\n",
    "x =int(input(\"x:\"))\n",
    "y =int(input(\"y:\"))\n",
    "\n",
    "print(\"두수의 합\", x+y)\n",
    "print(\"두수의 차\", x-y)\n",
    "print(\"두수의 곱\", x*y)\n",
    "print(\"두수의 평균\", (x+y)/2)\n",
    "print(\"큰수\", max(x,y))\n",
    "print(\"작은수\",min(x,y))"
   ]
  },
  {
   "cell_type": "code",
   "execution_count": 9,
   "metadata": {},
   "outputs": [
    {
     "name": "stdout",
     "output_type": "stream",
     "text": [
      "r:10\n",
      "h:100\n",
      "원기둥의 부피:  31415.92\n"
     ]
    }
   ],
   "source": [
    "#chapter3\n",
    "#3-2. 원기둥의 부피를 계산하는 프로그램\n",
    "\n",
    "r =float(input(\"r:\"))\n",
    "h =float(input(\"h:\"))\n",
    "sum = 3.141592*r**2 * h\n",
    "print(\"원기둥의 부피: \", sum)"
   ]
  },
  {
   "cell_type": "code",
   "execution_count": 20,
   "metadata": {},
   "outputs": [
    {
     "name": "stdout",
     "output_type": "stream",
     "text": [
      "정수를입력 : 4343\n",
      "자리수의 합 : 14\n"
     ]
    }
   ],
   "source": [
    "#chapter3\n",
    "#3-3. 사용자로부터 정수를 받아서 정수의 자리수의 합을 계산하는 프로그램을 작성하여 보자\n",
    "#rework mode\n",
    "\n",
    "#짜고싶은 내용 \n",
    "#입력된 정수의 자리수가 몇자리인지 파악하고 자리수 만큼 전부 더한다. \n",
    "#짜기 귀찮다. \n",
    "\n",
    "i = int(input('정수를입력 : '))\n",
    "\n",
    "t = i // 1000 #천의자리\n",
    "m = (i % 1000) // 100 #백의자리\n",
    "ten = ((i % 1000) % 100) // 10 #십의자리\n",
    "one = (((i % 1000) % 100) % 10) // 1 #일의자리\n",
    "Sum = t + m + ten + one\n",
    "\n",
    "print(\"자리수의 합 :\", Sum)"
   ]
  },
  {
   "cell_type": "code",
   "execution_count": 23,
   "metadata": {},
   "outputs": [
    {
     "name": "stdout",
     "output_type": "stream",
     "text": [
      "x1: 3\n",
      "y1: 4\n",
      "x2: 5\n",
      "y2: 6\n",
      "두점사이의 거리= 2.8284271247461903\n"
     ]
    }
   ],
   "source": [
    "#chapter3\n",
    "#3-4. 사용자로부터 두 점의 좌표를 입력받아서 두 점 사이의 거리를 계산하는 프로그램\n",
    "\n",
    "x1 = int(input('x1: '))\n",
    "y1 = int(input('y1: '))\n",
    "x2 = int(input('x2: '))\n",
    "y2 = int(input('y2: '))\n",
    "\n",
    "xsum = (x1 - x2)**2 # x의거리\n",
    "ysum = (y1 - y2)**2 # y의거리\n",
    "total = (xsum + ysum)**0.5 # 루트제거\n",
    "\n",
    "print(\"두점사이의 거리=\",total)"
   ]
  },
  {
   "cell_type": "code",
   "execution_count": 24,
   "metadata": {},
   "outputs": [
    {
     "name": "stdout",
     "output_type": "stream",
     "text": [
      "현재시간(영국 그리니치 시각):  4 시 50 분\n"
     ]
    }
   ],
   "source": [
    "#chapter3\n",
    "#3-7. 파이썬에서 time()을 호출하면 1970년 1월 1일 이후 흘러운 전체 초가 반환된다. 이것을 적절하게 나누거나\n",
    "#나머지를 구해서 현재 시간의 시와 분을 계산할 수 있을까?\n",
    "\n",
    "import time\n",
    "nowtime = time.time()\n",
    "min = (nowtime //60) % 60\n",
    "hour = ((nowtime //60)//60) % 24\n",
    "print(\"현재시간(영국 그리니치 시각): \" , int(hour) , \"시\" , int(min) , \"분\")"
   ]
  },
  {
   "cell_type": "code",
   "execution_count": 35,
   "metadata": {},
   "outputs": [
    {
     "name": "stdout",
     "output_type": "stream",
     "text": [
      "물체의 무게를 입력하시오(킬로그램) : 32\n",
      "물체의 속도를 입력하시오(미터/초) : 23\n",
      "물체는 8464.0 (줄)의 에너지를 가지고 있다.\n"
     ]
    }
   ],
   "source": [
    "#chapter3\n",
    "#3-8. 움직이는 물체의 운동에너지를 계산해보자. 물체의 에너지를 계산하는 식은 1/2*무게*속도*2 이다.\n",
    "\n",
    "w = int(input(\"물체의 무게를 입력하시오(킬로그램) : \"))\n",
    "s = int(input(\"물체의 속도를 입력하시오(미터/초) : \"))\n",
    "e = float(0.5*w*s**2)\n",
    "print(\"물체는\" , e ,\"(줄)의 에너지를 가지고 있다.\")"
   ]
  }
 ],
 "metadata": {
  "kernelspec": {
   "display_name": "Python 3",
   "language": "python",
   "name": "python3"
  },
  "language_info": {
   "codemirror_mode": {
    "name": "ipython",
    "version": 3
   },
   "file_extension": ".py",
   "mimetype": "text/x-python",
   "name": "python",
   "nbconvert_exporter": "python",
   "pygments_lexer": "ipython3",
   "version": "3.7.6"
  }
 },
 "nbformat": 4,
 "nbformat_minor": 4
}
