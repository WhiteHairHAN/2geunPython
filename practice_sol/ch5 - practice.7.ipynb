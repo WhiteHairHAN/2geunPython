{
 "cells": [
  {
   "cell_type": "code",
   "execution_count": 2,
   "metadata": {},
   "outputs": [
    {
     "name": "stdout",
     "output_type": "stream",
     "text": [
      "복권번호를 입력하시오 (0에서 99사이): 62\n",
      "당첨번호는 85 입니다 \n",
      "상금은 없습니다.\n"
     ]
    }
   ],
   "source": [
    "import random\n",
    "lucky_number = random.randint(0,99)\n",
    "input_number = int(input(\"복권번호를 입력하시오 (0에서 99사이): \"))\n",
    "\n",
    "lucky_number_2 = lucky_number//10\n",
    "lucky_number_1 = lucky_number%10\n",
    "\n",
    "input_number_2 = input_number//10\n",
    "input_number_1 = input_number%10\n",
    "\n",
    "if (input_number == lucky_number):\n",
    "    print(\"당첨번호는\", lucky_number, \"입니다 \\n상금은 100만원 입니다.\")\n",
    "elif (lucky_number_2 == input_number_2 or lucky_number_2 == input_number_1 or\n",
    "          lucky_number_1 == input_number_2 or lucky_number_1 == input_number_1):\n",
    "    print(\"당첨번호는\", lucky_number, \"입니다 \\n상금은 50만원 입니다.\")\n",
    "else:\n",
    "    print(\"당첨번호는\", lucky_number, \"입니다 \\n상금은 없습니다.\")\n",
    "    "
   ]
  },
  {
   "cell_type": "code",
   "execution_count": null,
   "metadata": {},
   "outputs": [],
   "source": []
  }
 ],
 "metadata": {
  "kernelspec": {
   "display_name": "Python 3",
   "language": "python",
   "name": "python3"
  },
  "language_info": {
   "codemirror_mode": {
    "name": "ipython",
    "version": 3
   },
   "file_extension": ".py",
   "mimetype": "text/x-python",
   "name": "python",
   "nbconvert_exporter": "python",
   "pygments_lexer": "ipython3",
   "version": "3.7.6"
  }
 },
 "nbformat": 4,
 "nbformat_minor": 4
}
