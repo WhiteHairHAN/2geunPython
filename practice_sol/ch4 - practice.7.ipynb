{
 "cells": [
  {
   "cell_type": "code",
   "execution_count": 1,
   "metadata": {},
   "outputs": [
    {
     "name": "stdout",
     "output_type": "stream",
     "text": [
      "첫번째 색상을 입력하시오: yellow\n",
      "두번째 색상을 입력하시오: red\n",
      "세번째 색상을 입력하시오: green\n"
     ]
    }
   ],
   "source": [
    "import turtle\n",
    "t = turtle.Turtle()\n",
    "t.shape(\"turtle\")\n",
    "\n",
    "color_list = []\n",
    "\n",
    "color = input(\"첫번째 색상을 입력하시오: \")\n",
    "color_list.append(color)\n",
    "\n",
    "color = input(\"두번째 색상을 입력하시오: \")\n",
    "color_list.append(color)\n",
    "\n",
    "color = input(\"세번째 색상을 입력하시오: \")\n",
    "color_list.append(color)\n",
    "\n",
    "t.fillcolor(color_list[0])\n",
    "t.begin_fill()\n",
    "t.circle(50)\n",
    "t.end_fill()\n",
    "\n",
    "t.up()\n",
    "t.forward(100)\n",
    "t.down()\n",
    "t.fillcolor(color_list[1])\n",
    "t.begin_fill()\n",
    "t.circle(50)\n",
    "t.end_fill()\n",
    "\n",
    "t.up()\n",
    "t.forward(100)\n",
    "t.down()\n",
    "t.fillcolor(color_list[2])\n",
    "t.begin_fill()\n",
    "t.circle(50)\n",
    "t.end_fill()"
   ]
  },
  {
   "cell_type": "code",
   "execution_count": null,
   "metadata": {},
   "outputs": [],
   "source": []
  }
 ],
 "metadata": {
  "kernelspec": {
   "display_name": "Python 3",
   "language": "python",
   "name": "python3"
  },
  "language_info": {
   "codemirror_mode": {
    "name": "ipython",
    "version": 3
   },
   "file_extension": ".py",
   "mimetype": "text/x-python",
   "name": "python",
   "nbconvert_exporter": "python",
   "pygments_lexer": "ipython3",
   "version": "3.7.6"
  }
 },
 "nbformat": 4,
 "nbformat_minor": 4
}
