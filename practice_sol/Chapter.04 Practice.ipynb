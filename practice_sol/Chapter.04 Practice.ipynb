{
 "cells": [
  {
   "cell_type": "code",
   "execution_count": 4,
   "metadata": {},
   "outputs": [
    {
     "name": "stdout",
     "output_type": "stream",
     "text": [
      "나는 12개의 사과를 먹었다\n"
     ]
    }
   ],
   "source": [
    "#chapter4\n",
    "#4-1. 다음과 같은 수식오류를 올바르게 수정하여라\n",
    "# '나는' + 12 +'개의 사과를 먹었다\n",
    "\n",
    "print(\"나는 \"+ str(12) +\"개의 사과를 먹었다\")"
   ]
  },
  {
   "cell_type": "code",
   "execution_count": 6,
   "metadata": {},
   "outputs": [
    {
     "name": "stdout",
     "output_type": "stream",
     "text": [
      "applegrade\n",
      "appleappleapple\n"
     ]
    }
   ],
   "source": [
    "#chapter4\n",
    "#4-2. 다음과 같은 수식을 계산하면 결과는 무엇인가?\n",
    "# 'apple' +'grade'\n",
    "# 'apple' * 3\n",
    "\n",
    "print(\"apple\" + 'grade')\n",
    "print('apple' * 3)"
   ]
  },
  {
   "cell_type": "code",
   "execution_count": 8,
   "metadata": {},
   "outputs": [
    {
     "name": "stdout",
     "output_type": "stream",
     "text": [
      "문자열을 입력하시오 :python\n",
      "python\n",
      "pyon\n"
     ]
    }
   ],
   "source": [
    "#chapter4\n",
    "#4-3. 다음과 같이 사용자가 입력한 문자열 중에서 처음 2글자와 마지막 2글자를 추출한 후에 이들을 합쳐서 출력해보자\n",
    "\n",
    "string = str(input(\"문자열을 입력하시오 :\"))\n",
    "print(string)\n",
    "print(string[0:2]+string[4:6])"
   ]
  },
  {
   "cell_type": "code",
   "execution_count": 10,
   "metadata": {},
   "outputs": [
    {
     "name": "stdout",
     "output_type": "stream",
     "text": [
      "문자열을 입력하시오 : 청소\n",
      "청소하는중\n"
     ]
    }
   ],
   "source": [
    "#chapter4\n",
    "#4-4. 다음과 같이 사용자가 입력한 문자열 뒤에 항상 \"하는 중\" 를 붙이는 프로그램을 작성해 보자\n",
    "x = input(\"문자열을 입력하시오 : \")\n",
    "print(x + \"하는중\")"
   ]
  },
  {
   "cell_type": "code",
   "execution_count": 13,
   "metadata": {},
   "outputs": [
    {
     "name": "stdout",
     "output_type": "stream",
     "text": [
      "기호를입력하세요:[]\n",
      "문자열을 입력하세요:python\n",
      "[python]\n"
     ]
    }
   ],
   "source": [
    "#chapter4\n",
    "#4-5. 사용자가 입력한 기호 안에 문자열을 삽입하려면 어떻게 해야 하는가? 기호는 문자 2개로 이루어있다고 가정한다. \n",
    "#sign , sign2 = input(\"기호를 입력하세요 :\").split()\n",
    "\n",
    "sign = input(\"기호를입력하세요:\")\n",
    "string = str(input(\"문자열을 입력하세요:\"))\n",
    "#print(sign+string+sign2)\n",
    "print(sign[0:1]+string+sign[1:2])"
   ]
  },
  {
   "cell_type": "code",
   "execution_count": 14,
   "metadata": {},
   "outputs": [
    {
     "name": "stdout",
     "output_type": "stream",
     "text": [
      "리스트 = [1, 2, 3, 4]\n",
      "리스트 정수의 합 :  10\n"
     ]
    }
   ],
   "source": [
    "#chapter4\n",
    "#4-6. 4개의 숫자가 들어 있는 리스트가 있다. 리스트 안의 숫자들을 꺼내서 합계를 계산하여 출력하는 프로그램을 작성하라.\n",
    "#반복문은 사용하지 않는다. 리스트의 길이는 항상 4라고 가정한다.\n",
    "#이걸 시험문제로 낸다면 변형을 못하겠다.. 리스트라\n",
    "\n",
    "a = [1,2,3,4]\n",
    "print(\"리스트 =\",a)\n",
    "print(\"리스트 정수의 합 : \",a[0]+a[1]+a[2]+a[3])"
   ]
  },
  {
   "cell_type": "code",
   "execution_count": null,
   "metadata": {},
   "outputs": [],
   "source": [
    "#chapter4\n",
    "#4-7 #4-8 터틀그래픽이므로 생략."
   ]
  }
 ],
 "metadata": {
  "kernelspec": {
   "display_name": "Python 3",
   "language": "python",
   "name": "python3"
  },
  "language_info": {
   "codemirror_mode": {
    "name": "ipython",
    "version": 3
   },
   "file_extension": ".py",
   "mimetype": "text/x-python",
   "name": "python",
   "nbconvert_exporter": "python",
   "pygments_lexer": "ipython3",
   "version": "3.7.6"
  }
 },
 "nbformat": 4,
 "nbformat_minor": 4
}
