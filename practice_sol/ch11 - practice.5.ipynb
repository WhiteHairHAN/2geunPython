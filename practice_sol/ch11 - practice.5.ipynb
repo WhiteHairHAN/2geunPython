{
 "cells": [
  {
   "cell_type": "code",
   "execution_count": 1,
   "metadata": {
    "scrolled": true
   },
   "outputs": [
    {
     "name": "stdout",
     "output_type": "stream",
     "text": [
      "입력 파일 이름: C:/Users/dkxmp/Documents/Python project/Python practice project/Two_geun_X2 Python/Extra example files/numbers.txt\n",
      "출력 파일 이름: C:/Users/dkxmp/Documents/Python project/Python practice project/Two_geun_X2 Python/Extra example files/output.txt\n"
     ]
    }
   ],
   "source": [
    "file = input(\"입력 파일 이름: \")\n",
    "\n",
    "inputfile = open(file, \"r\")\n",
    "readfile = inputfile.readlines()\n",
    "\n",
    "file = input(\"출력 파일 이름: \")\n",
    "outfile = open(file,\"w\")\n",
    "\n",
    "totalvalue = 0\n",
    "count = 0\n",
    "\n",
    "for number in readfile:\n",
    "    totalvalue += float(number)\n",
    "    count += 1\n",
    "    \n",
    "average = 0    \n",
    "average = totalvalue / count\n",
    "\n",
    "print(\"합계=\" + str(totalvalue), file = outfile, end =\"\\n\")\n",
    "print(\"평균=\" + str(average), file = outfile, end =\"\")\n",
    "\n",
    "\n",
    "inputfile.close()\n",
    "outfile.close()\n"
   ]
  }
 ],
 "metadata": {
  "kernelspec": {
   "display_name": "Python 3",
   "language": "python",
   "name": "python3"
  },
  "language_info": {
   "codemirror_mode": {
    "name": "ipython",
    "version": 3
   },
   "file_extension": ".py",
   "mimetype": "text/x-python",
   "name": "python",
   "nbconvert_exporter": "python",
   "pygments_lexer": "ipython3",
   "version": "3.7.6"
  }
 },
 "nbformat": 4,
 "nbformat_minor": 4
}
