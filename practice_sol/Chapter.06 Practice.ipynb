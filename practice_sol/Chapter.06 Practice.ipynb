{
 "cells": [
  {
   "cell_type": "code",
   "execution_count": 2,
   "metadata": {},
   "outputs": [
    {
     "name": "stdout",
     "output_type": "stream",
     "text": [
      "2 4 6 8 10 12 14 16 18 20 22 24 26 28 30 32 34 36 38 40 42 44 46 48 50 52 54 56 58 60 62 64 66 68 70 72 74 76 78 80 82 84 86 88 90 92 94 96 98 100 "
     ]
    }
   ],
   "source": [
    "#chapter6\n",
    "#6-1. 2부터 100사이의 모든 짝수를 출력하는 반복 루프를 작성한다. \n",
    "for i in range(2,101,2):\n",
    "    print(i, end=\" \")"
   ]
  },
  {
   "cell_type": "code",
   "execution_count": 4,
   "metadata": {},
   "outputs": [
    {
     "name": "stdout",
     "output_type": "stream",
     "text": [
      "11 년 걸립니다.\n"
     ]
    }
   ],
   "source": [
    "#chapter6\n",
    "#6-2. 어떤사람이 복리이자율 7%로 1000만원을 저금했을 경우에 2000만원이 되는데 몇년이\n",
    "#걸리는지 계산하기 위하여 다음과 코드를 작성하였다. 잘못된 점은 없는지 체크해 보자.\n",
    "year = 0\n",
    "balance = 1000\n",
    " \n",
    "while balance >= 2000 :\n",
    "    year = year + 1\n",
    "    interest = balance * 0.07\n",
    "    balance = balance + interest\n",
    "print(year, \"년 걸립니다.\")\n",
    "\n",
    "# 4행의 while balance >= 2000을 while balance <= 2000으로 바꿔 주어야 한다."
   ]
  },
  {
   "cell_type": "code",
   "execution_count": 6,
   "metadata": {},
   "outputs": [
    {
     "name": "stdout",
     "output_type": "stream",
     "text": [
      "10\n"
     ]
    }
   ],
   "source": [
    "#chapter6\n",
    "#6-3. 다음코드의 출력을 예상해보자. 각 단계에서 변수의 값을 예상해보자. \n",
    "\n",
    "n = 1234\n",
    "sum = 0\n",
    "while n>0:\n",
    "    digit = n%10 \n",
    "    sum = sum +digit \n",
    "    n = n//10\n",
    "print(sum)\n",
    "# 4 3 2 1 이 각각 sum에 더해진다. "
   ]
  },
  {
   "cell_type": "code",
   "execution_count": 7,
   "metadata": {},
   "outputs": [
    {
     "name": "stdout",
     "output_type": "stream",
     "text": [
      "7 X 8\n",
      "56\n",
      "맞았습니다\n"
     ]
    }
   ],
   "source": [
    "#chapter6\n",
    "#6-4. 사용자에게 곱셈 퀴즈를 내고 답을 사용자로부터 받는 프로그램에서 사용자가 올바른 답을\n",
    "#입력할 때까지 반복하도록 수정하여 보자.\n",
    "\n",
    "import random\n",
    "a =random.randint(1,9)\n",
    "b = random.randint(1,9)\n",
    "c = 0\n",
    "while c != (a*b):\n",
    "    print(a,\"X\",b )\n",
    "    c = int(input())\n",
    "\n",
    "print(\"맞았습니다\")"
   ]
  },
  {
   "cell_type": "code",
   "execution_count": 11,
   "metadata": {},
   "outputs": [
    {
     "name": "stdout",
     "output_type": "stream",
     "text": [
      "정수를 입력하시오: 5\n",
      "정수를 입력하시오: 0\n",
      "합은 5 입니다.\n"
     ]
    }
   ],
   "source": [
    "#chapter6\n",
    "#6-5. 사용자가 입력한 정수의 합을 계산하는 프로그램을 작성하자. 사용자가 0을 입력하기 전까지\n",
    "#정수를 계속하여 읽도록 한다.\n",
    "numsum = 0\n",
    "while(1):\n",
    "    x = int(input(\"정수를 입력하시오: \"))\n",
    "    numsum  = numsum + x\n",
    "    if(x == 0):\n",
    "        print(\"합은\", numsum ,\"입니다.\")\n",
    "        break"
   ]
  },
  {
   "cell_type": "code",
   "execution_count": 30,
   "metadata": {},
   "outputs": [
    {
     "name": "stdout",
     "output_type": "stream",
     "text": [
      "첫번째 주사위 =  1 첫번째 주사위 =  4\n",
      "====================================\n",
      "첫번째 주사위 =  4  두번째 주사위 =  3\n",
      "첫번째 주사위 =  3  두번째 주사위 =  4\n",
      "첫번째 주사위 =  5  두번째 주사위 =  5\n"
     ]
    }
   ],
   "source": [
    "#chapter6\n",
    "#6-6. 난수 생성 함수를 사용하여서 2개의 주사위를 던졌을 때 나온 수를 다음과 같이 출력하여 보자. \n",
    "\n",
    "import random\n",
    "r1 = random.randint(1,6)\n",
    "r2 = random.randint(1,6)\n",
    "print( \"첫번째 주사위 = \", r1 ,\"첫번째 주사위 = \", r2 )\n",
    "print( \"====================================\", )\n",
    "\n",
    "import random\n",
    "\n",
    "for i in range(3):\n",
    "    a = random.randint(1,6)\n",
    "    b = random.randint(1,6)\n",
    "\n",
    "    print(\"첫번째 주사위 = \", a, \" 두번째 주사위 = \", b)"
   ]
  },
  {
   "cell_type": "code",
   "execution_count": null,
   "metadata": {},
   "outputs": [],
   "source": [
    "# 6-7, 6-8, 6-9, 6-10, 6-11, 6-12 터틀그래픽 생략"
   ]
  }
 ],
 "metadata": {
  "kernelspec": {
   "display_name": "Python 3",
   "language": "python",
   "name": "python3"
  },
  "language_info": {
   "codemirror_mode": {
    "name": "ipython",
    "version": 3
   },
   "file_extension": ".py",
   "mimetype": "text/x-python",
   "name": "python",
   "nbconvert_exporter": "python",
   "pygments_lexer": "ipython3",
   "version": "3.7.6"
  }
 },
 "nbformat": 4,
 "nbformat_minor": 4
}
