{
 "cells": [
  {
   "cell_type": "code",
   "execution_count": 1,
   "metadata": {},
   "outputs": [
    {
     "name": "stdout",
     "output_type": "stream",
     "text": [
      "반지름: 100 원의 면적: 628.0 원의 둘레: 31400.0\n"
     ]
    }
   ],
   "source": [
    "#chapter.13\n",
    "#13-1. 원을 나타내는 클래스 Circle을 정의해보자. Circle클래스에 포함되는 변수와 함수는 다음과 같다.\n",
    "#Circle 클래스의 객체를 생성하고 테스트해보자\n",
    "class Circle:\n",
    "    def __init__(self, radius):\n",
    "        self.radius = radius\n",
    "    def calcPerimeter(self):\n",
    "        self.calcperimeter = 3.14 * 2 * self.radius\n",
    "    def calcArea(self):\n",
    "        self.calcarea = 3.14 * self.radius**2\n",
    "    def __str__(self):\n",
    "        msg = \"반지름: \"+str(self.radius) +\" 원의 면적: \"+str(self.calcperimeter) +\" 원의 둘레: \"+str(self.calcarea)\n",
    "        return msg\n",
    "\n",
    "myCircle = Circle(100)\n",
    "myCircle.calcPerimeter()\n",
    "myCircle.calcArea()\n",
    "print(myCircle)"
   ]
  },
  {
   "cell_type": "code",
   "execution_count": 2,
   "metadata": {},
   "outputs": [
    {
     "name": "stdout",
     "output_type": "stream",
     "text": [
      "TV의 채널: 11 TV의 음량: 6\n",
      "TV가 꺼져있습니다. \n",
      "TV의 채널: 11 TV의 음량: 6\n",
      "TV의 채널: 1 TV의 음량: 6\n",
      "TV의 채널: 1 TV의 음량: 10\n"
     ]
    }
   ],
   "source": [
    "#chapter.13\n",
    "#13-2. TV를 클래스로 정의해보자. TV클래스는 다음과 같은 변수들과 함수들을 가진다. TV클래스의 객체를 생성하고 테스트해보자\n",
    "class TV:\n",
    "    def __init__(self, channel, volume, on):\n",
    "        self.channel = channel\n",
    "        self.volume = volume\n",
    "        self.on = on\n",
    "    def turnOn(self):\n",
    "        self.on = 1\n",
    "    def turnOff(self):\n",
    "        self.on = 0\n",
    "    def setChannel(self, channel):\n",
    "        self.channel = channel\n",
    "    def setVolume(self, volume):\n",
    "        self.volume = volume\n",
    "    def __str__(self):\n",
    "        if self.on == 1:\n",
    "            msg = \"TV의 채널: \"+str(self.channel) + \" TV의 음량: \" + str(self.volume)\n",
    "        else:\n",
    "            msg = \"TV가 꺼져있습니다. \"\n",
    "        return msg\n",
    "\n",
    "myTV = TV(11, 6, 1)\n",
    "print(myTV)\n",
    "myTV.turnOff()\n",
    "print(myTV)\n",
    "myTV.turnOn()\n",
    "print(myTV)\n",
    "myTV.channel = 1\n",
    "print(myTV)\n",
    "myTV.volume = 10\n",
    "print(myTV)\n",
    "# [출처] [두근두근 파이썬 풀이] CHAPTER 13|작성자 게으른 프로그래머"
   ]
  },
  {
   "cell_type": "code",
   "execution_count": 3,
   "metadata": {},
   "outputs": [],
   "source": [
    "#chapter.13\n",
    "#13-4. \n",
    "from turtle import *\n",
    "\n",
    "class MyTurtle(Turtle): \n",
    "    def drawSquare(self):\n",
    "        for i in range(4):\n",
    "            self.right(90)\n",
    "            self.forward(100)\n",
    "\n",
    "my_turtle = MyTurtle()\n",
    "my_turtle.forward(100)\n",
    "my_turtle.drawSquare()"
   ]
  }
 ],
 "metadata": {
  "kernelspec": {
   "display_name": "Python 3",
   "language": "python",
   "name": "python3"
  },
  "language_info": {
   "codemirror_mode": {
    "name": "ipython",
    "version": 3
   },
   "file_extension": ".py",
   "mimetype": "text/x-python",
   "name": "python",
   "nbconvert_exporter": "python",
   "pygments_lexer": "ipython3",
   "version": "3.7.6"
  }
 },
 "nbformat": 4,
 "nbformat_minor": 4
}
