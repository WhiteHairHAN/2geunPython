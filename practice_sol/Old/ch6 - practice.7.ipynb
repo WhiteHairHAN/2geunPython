{
 "cells": [
  {
   "cell_type": "code",
   "execution_count": 1,
   "metadata": {},
   "outputs": [],
   "source": [
    "import turtle\n",
    "t = turtle.Turtle()\n",
    "t.shape(\"turtle\")\n",
    "\n",
    "for i in range(6):\n",
    "    t.forward(100)\n",
    "    t.forward(-30)\n",
    "    t.left(60)\n",
    "    t.forward(30)\n",
    "    t.forward(-30)\n",
    "    t.right(120)\n",
    "    t.forward(30)\n",
    "    t.forward(-30)\n",
    "    t.up()\n",
    "    t.goto(0,0)\n",
    "    t.down()\n"
   ]
  }
 ],
 "metadata": {
  "kernelspec": {
   "display_name": "Python 3",
   "language": "python",
   "name": "python3"
  },
  "language_info": {
   "codemirror_mode": {
    "name": "ipython",
    "version": 3
   },
   "file_extension": ".py",
   "mimetype": "text/x-python",
   "name": "python",
   "nbconvert_exporter": "python",
   "pygments_lexer": "ipython3",
   "version": "3.7.6"
  }
 },
 "nbformat": 4,
 "nbformat_minor": 4
}
