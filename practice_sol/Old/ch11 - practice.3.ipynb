{
 "cells": [
  {
   "cell_type": "code",
   "execution_count": 1,
   "metadata": {},
   "outputs": [
    {
     "name": "stdout",
     "output_type": "stream",
     "text": [
      "파일 이름을 입력하세요: C:/Users/dkxmp/Documents/Python project/Python practice project/Two_geun_X2 Python/Extra example files/HumptyDumpty.txt\n",
      "{'H': 3, 'u': 7, 'm': 6, 'p': 6, 't': 13, 'y': 5, ' ': 22, 'D': 2, 's': 5, 'a': 11, 'o': 4, 'n': 7, 'w': 1, 'l': 9, ',': 1, '\\n': 3, 'h': 5, 'd': 3, 'g': 5, 'r': 3, 'e': 7, 'f': 1, '.': 2, 'A': 1, 'k': 2, 'i': 3, \"'\": 3, 'C': 1}\n"
     ]
    }
   ],
   "source": [
    "alphabet = {}\n",
    "inputfilename = input(\"파일 이름을 입력하세요: \")\n",
    "\n",
    "inputfile = open(inputfilename, \"r\")\n",
    "readfile = inputfile.read()\n",
    "\n",
    "\n",
    "for cha in readfile:\n",
    "    if cha in alphabet:\n",
    "        alphabet[cha] += 1\n",
    "    else:\n",
    "        alphabet[cha] = 1\n",
    "            \n",
    "print(alphabet)\n",
    "inputfile.close()"
   ]
  }
 ],
 "metadata": {
  "kernelspec": {
   "display_name": "Python 3",
   "language": "python",
   "name": "python3"
  },
  "language_info": {
   "codemirror_mode": {
    "name": "ipython",
    "version": 3
   },
   "file_extension": ".py",
   "mimetype": "text/x-python",
   "name": "python",
   "nbconvert_exporter": "python",
   "pygments_lexer": "ipython3",
   "version": "3.7.6"
  }
 },
 "nbformat": 4,
 "nbformat_minor": 4
}
