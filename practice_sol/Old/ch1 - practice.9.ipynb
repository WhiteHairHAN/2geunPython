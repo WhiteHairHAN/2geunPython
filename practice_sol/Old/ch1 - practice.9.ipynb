{
 "cells": [
  {
   "cell_type": "code",
   "execution_count": 1,
   "metadata": {},
   "outputs": [],
   "source": [
    "import turtle\n",
    "t = turtle.Turtle()\n",
    "t.shape(\"turtle\")\n",
    "\n",
    "t.circle(100)\n",
    "t.up()\n",
    "t.forward(150)\n",
    "\n",
    "t.down()\n",
    "t.circle(100)\n",
    "t.up()\n",
    "t.forward(150)\n",
    "\n",
    "t.down()\n",
    "t.circle(100)\n",
    "t.up()\n",
    "t.right(90)\n",
    "t.right(90)\n",
    "t.forward(230)\n",
    "t.left(90)\n",
    "t.forward(150)\n",
    "t.left(90)\n",
    "\n",
    "t.down()\n",
    "t.circle(100)\n",
    "t.up()\n",
    "t.forward(150)\n",
    "\n",
    "t.down()\n",
    "t.circle(100)"
   ]
  },
  {
   "cell_type": "code",
   "execution_count": null,
   "metadata": {},
   "outputs": [],
   "source": []
  }
 ],
 "metadata": {
  "kernelspec": {
   "display_name": "Python 3",
   "language": "python",
   "name": "python3"
  },
  "language_info": {
   "codemirror_mode": {
    "name": "ipython",
    "version": 3
   },
   "file_extension": ".py",
   "mimetype": "text/x-python",
   "name": "python",
   "nbconvert_exporter": "python",
   "pygments_lexer": "ipython3",
   "version": "3.7.6"
  }
 },
 "nbformat": 4,
 "nbformat_minor": 4
}
