{
 "cells": [
  {
   "cell_type": "code",
   "execution_count": 4,
   "metadata": {},
   "outputs": [],
   "source": [
    "import turtle\n",
    "t= turtle.Turtle()\n",
    "t.shape(\"turtle\")\n",
    "\n",
    "side = 100\n",
    "angle = 90\n",
    "\n",
    "t.down()\n",
    "t.forward(side)\n",
    "t.right(angle)\n",
    "t.forward(side)\n",
    "t.right(angle)\n",
    "t.forward(side)\n",
    "t.right(angle)\n",
    "t.forward(side)\n",
    "t.right(angle)\n",
    "\n",
    "t.goto(100,0)\n",
    "t.forward(side)\n",
    "t.right(angle)\n",
    "t.forward(side)\n",
    "t.right(angle)\n",
    "t.forward(side)\n",
    "t.right(angle)\n",
    "t.forward(side)\n",
    "t.right(angle)\n",
    "\n",
    "t.up()\n",
    "t.goto(0,-100)\n",
    "t.down()\n",
    "t.forward(side)\n",
    "t.right(angle)\n",
    "t.forward(side)\n",
    "t.right(angle)\n",
    "t.forward(side)\n",
    "t.right(angle)\n",
    "t.forward(side)\n",
    "t.right(angle)\n",
    "\n",
    "t.goto(100,-100)\n",
    "t.forward(side)\n",
    "t.right(angle)\n",
    "t.forward(side)\n",
    "t.right(angle)\n",
    "t.forward(side)\n",
    "t.right(angle)\n",
    "t.forward(side)\n",
    "t.right(angle)"
   ]
  },
  {
   "cell_type": "code",
   "execution_count": null,
   "metadata": {},
   "outputs": [],
   "source": []
  }
 ],
 "metadata": {
  "kernelspec": {
   "display_name": "Python 3",
   "language": "python",
   "name": "python3"
  },
  "language_info": {
   "codemirror_mode": {
    "name": "ipython",
    "version": 3
   },
   "file_extension": ".py",
   "mimetype": "text/x-python",
   "name": "python",
   "nbconvert_exporter": "python",
   "pygments_lexer": "ipython3",
   "version": "3.7.6"
  }
 },
 "nbformat": 4,
 "nbformat_minor": 4
}
