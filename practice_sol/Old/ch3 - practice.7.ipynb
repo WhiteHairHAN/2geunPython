{
 "cells": [
  {
   "cell_type": "code",
   "execution_count": 11,
   "metadata": {},
   "outputs": [
    {
     "name": "stdout",
     "output_type": "stream",
     "text": [
      "현재시간(영국 그리니치 시각):  7 시 54 분\n"
     ]
    }
   ],
   "source": [
    "import time\n",
    "nowtime = time.time()\n",
    "min = (nowtime //60) % 60\n",
    "hour = ((nowtime //60)//60) % 24\n",
    "print(\"현재시간(영국 그리니치 시각): \" , int(hour) , \"시\" , int(min) , \"분\")"
   ]
  },
  {
   "cell_type": "code",
   "execution_count": null,
   "metadata": {},
   "outputs": [],
   "source": []
  }
 ],
 "metadata": {
  "kernelspec": {
   "display_name": "Python 3",
   "language": "python",
   "name": "python3"
  },
  "language_info": {
   "codemirror_mode": {
    "name": "ipython",
    "version": 3
   },
   "file_extension": ".py",
   "mimetype": "text/x-python",
   "name": "python",
   "nbconvert_exporter": "python",
   "pygments_lexer": "ipython3",
   "version": "3.7.6"
  }
 },
 "nbformat": 4,
 "nbformat_minor": 4
}
