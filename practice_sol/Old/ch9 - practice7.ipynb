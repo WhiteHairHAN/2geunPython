{
 "cells": [
  {
   "cell_type": "code",
   "execution_count": 1,
   "metadata": {},
   "outputs": [
    {
     "name": "stdout",
     "output_type": "stream",
     "text": [
      "kr : 대한민국\n",
      "sk : 슬로바키아\n",
      "no : 노르웨이\n",
      "us : 미국\n",
      "jp : 일본\n",
      "hu : 헝가리\n",
      "de : 독일\n"
     ]
    }
   ],
   "source": [
    "domain = {\"kr\" : \"대한민국\", \n",
    "          \"sk\" : \"슬로바키아\", \n",
    "          \"no\" : \"노르웨이\", \n",
    "          \"us\" : \"미국\", \n",
    "          \"jp\" : \"일본\", \n",
    "          \"hu\" : \"헝가리\", \n",
    "          \"de\" : \"독일\"}\n",
    "\n",
    "for k, v in domain.items():\n",
    "    print(k, \":\", v)\n"
   ]
  }
 ],
 "metadata": {
  "kernelspec": {
   "display_name": "Python 3",
   "language": "python",
   "name": "python3"
  },
  "language_info": {
   "codemirror_mode": {
    "name": "ipython",
    "version": 3
   },
   "file_extension": ".py",
   "mimetype": "text/x-python",
   "name": "python",
   "nbconvert_exporter": "python",
   "pygments_lexer": "ipython3",
   "version": "3.7.6"
  }
 },
 "nbformat": 4,
 "nbformat_minor": 4
}
