{
 "cells": [
  {
   "cell_type": "code",
   "execution_count": 1,
   "metadata": {},
   "outputs": [],
   "source": [
    "#chapter5\n",
    "#5-1 쉬워서 생략"
   ]
  },
  {
   "cell_type": "code",
   "execution_count": 16,
   "metadata": {},
   "outputs": [
    {
     "name": "stdout",
     "output_type": "stream",
     "text": [
      "000\n"
     ]
    }
   ],
   "source": [
    "#chapter5\n",
    "#5-2. age가 30이상이고 50 이하인 것을 체크하려면 어떻게 하여야 하는가?\n",
    "\n",
    "age =20\n",
    "if age >= 30 and age < 50: \n",
    "    #논리연산자 and를 사용할 수 있다.\n",
    "    print(\"30살이상 50살 미만\")\n",
    "else:\n",
    "    print(\"000\")"
   ]
  },
  {
   "cell_type": "code",
   "execution_count": 9,
   "metadata": {},
   "outputs": [
    {
     "name": "stdout",
     "output_type": "stream",
     "text": [
      "현재 온도는 몇도 입니까? 25\n",
      "반바지\n"
     ]
    }
   ],
   "source": [
    "#chapter5\n",
    "#5-3. 사용자에게 현재 온도를 질문하고 온도가 25도 이상이면 반바지를 추천하고 25도 미만이면 긴바지를 추천하는 프로그램을 작성해 보자\n",
    "\n",
    "x = int(input(\"현재 온도는 몇도 입니까? \"))\n",
    "if (x<25):\n",
    "    print(\"긴바지\")\n",
    "else:\n",
    "    print(\"반바지\")"
   ]
  },
  {
   "cell_type": "code",
   "execution_count": 17,
   "metadata": {},
   "outputs": [
    {
     "name": "stdout",
     "output_type": "stream",
     "text": [
      "성적을 입력하시오100\n",
      "A\n"
     ]
    }
   ],
   "source": [
    "#chapter5\n",
    "#5-4. 학생의 시험 점수를 물어보고 시험점수가 90점 이상이면 A, 80점 이상이면 B, 70점 잇ㅇ이면 C, 60점 이상이면 D,그외점수이면 F학점을 주는\n",
    "#프로그램을 작성해보자\n",
    "grade = int(input(\"성적을 입력하시오\"))\n",
    "if(grade>90):\n",
    "    print(\"A\")\n",
    "elif(grade>80 and grade <90):\n",
    "    print(\"B\")\n",
    "elif(grade>70 and grade <80):\n",
    "    print(\"C\")\n",
    "elif(grade>60 and grade <70):\n",
    "    print(\"D\")\n",
    "else:\n",
    "    print(\"F\")"
   ]
  },
  {
   "cell_type": "code",
   "execution_count": 20,
   "metadata": {},
   "outputs": [
    {
     "name": "stdout",
     "output_type": "stream",
     "text": [
      "92 - 35 = 1\n",
      "틀림\n"
     ]
    }
   ],
   "source": [
    "#chapter5\n",
    "#5-5. 난수를 사용하여 1부터 100 사이읫 숫자를 사용하는 뺄셈 문제를 생성하고 사용자에게 물어본 후 사용자의 답변이 올바른지를 검사하는 프로그램을 작성하라.\n",
    "\n",
    "import random\n",
    "na = random.randint(1,100)    #난수1\n",
    "nb = random.randint(1,100)    #난수2\n",
    "\n",
    "while nb >= na: #음수제거\n",
    "    na = random.randint(1,100)\n",
    "    \n",
    "result = int(input(\"{} - {} = \".format(na,nb)))\n",
    "\n",
    "if result == na-nb:\n",
    "    print(\"정답\")\n",
    "else:\n",
    "    print(\"틀림\")"
   ]
  },
  {
   "cell_type": "code",
   "execution_count": 24,
   "metadata": {},
   "outputs": [
    {
     "name": "stdout",
     "output_type": "stream",
     "text": [
      "정수를 입력하시오: 18\n",
      "2와 3으로 나누어 떨어집니다.\n"
     ]
    }
   ],
   "source": [
    "#chapter5\n",
    "#5-6. 사용자로부터 정수를 받아서 이 정수가 2와 3으로 나누어떨어질 수 있는지를 출력하라.\n",
    "\n",
    "x = int(input(\"정수를 입력하시오: \"))\n",
    "if(x % 2 == 0 and x % 3 == 0 ):\n",
    "    # %는 나머지 연산자 이다. \n",
    "    print(\"2와 3으로 나누어 떨어집니다.\")\n",
    "else:\n",
    "    print(\"2와 3으로 나누어 떨어지지 않습니다.\")"
   ]
  },
  {
   "cell_type": "code",
   "execution_count": 26,
   "metadata": {},
   "outputs": [
    {
     "name": "stdout",
     "output_type": "stream",
     "text": [
      "복권번호를 입력하시오 (0에서 99사이): 54\n",
      "당첨번호는 84 입니다 \n",
      "상금은 50만원 입니다.\n"
     ]
    }
   ],
   "source": [
    "#chapter5\n",
    "#5-7.\n",
    "#2자리 숫자로 이루어진 복권이 있다. 사용자가 가지고 있는 복권 번호가 2자리 모두 일치하면 100만원을 받는다. 2자리 중에서 하나만 일치하면 50만원을 받는다.\n",
    "#하나도 일치하지 않으면 상금은 없다. 복권 당첨 번호는 난수로 생성하고 사용자의 입력에 따라서 상금이 얼마인지를 출력하는 프로그램을 작성하라.\n",
    "\n",
    "import random\n",
    "lucky_number = random.randint(0,99)\n",
    "input_number = int(input(\"복권번호를 입력하시오 (0에서 99사이): \"))\n",
    "\n",
    "lucky_number_2 = lucky_number//10\n",
    "lucky_number_1 = lucky_number%10\n",
    "\n",
    "input_number_2 = input_number//10\n",
    "input_number_1 = input_number%10\n",
    "\n",
    "if (input_number == lucky_number):\n",
    "    print(\"당첨번호는\", lucky_number, \"입니다 \\n상금은 100만원 입니다.\")\n",
    "elif (lucky_number_2 == input_number_2 or lucky_number_2 == input_number_1 or\n",
    "          lucky_number_1 == input_number_2 or lucky_number_1 == input_number_1):\n",
    "    print(\"당첨번호는\", lucky_number, \"입니다 \\n상금은 50만원 입니다.\")\n",
    "else:\n",
    "    print(\"당첨번호는\", lucky_number, \"입니다 \\n상금은 없습니다.\")"
   ]
  },
  {
   "cell_type": "code",
   "execution_count": null,
   "metadata": {},
   "outputs": [],
   "source": [
    "#chapter5\n",
    "#5-8. 사용자로부터 2개의 원에 대한 정보를 받아서 화면에 우너을 그린 후에 조건문을 사용하여 큰 원 안에 작은 원이 포함되는지를 판단하는 프로그램을 작성하라\n",
    "#터틀그래픽이므로 생략."
   ]
  }
 ],
 "metadata": {
  "kernelspec": {
   "display_name": "Python 3",
   "language": "python",
   "name": "python3"
  },
  "language_info": {
   "codemirror_mode": {
    "name": "ipython",
    "version": 3
   },
   "file_extension": ".py",
   "mimetype": "text/x-python",
   "name": "python",
   "nbconvert_exporter": "python",
   "pygments_lexer": "ipython3",
   "version": "3.7.6"
  }
 },
 "nbformat": 4,
 "nbformat_minor": 4
}
