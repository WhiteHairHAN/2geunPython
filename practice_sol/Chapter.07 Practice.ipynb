{
 "cells": [
  {
   "cell_type": "code",
   "execution_count": null,
   "metadata": {},
   "outputs": [],
   "source": [
    "#chapter.07\n",
    "#7-1, 7-2, 7-3, 7-4 \n",
    "#터틀그래픽 생략"
   ]
  },
  {
   "cell_type": "code",
   "execution_count": 1,
   "metadata": {},
   "outputs": [
    {
     "name": "stdout",
     "output_type": "stream",
     "text": [
      "이름이 무엇인가요? re\n",
      "Happy Birthday to you!\n",
      "Happy Birthday to you!\n",
      "Happy Birthday, dear re\n",
      "Happy Birthday to you!\n"
     ]
    }
   ],
   "source": [
    "#chapter.07\n",
    "#7-5. 이름을 받아서 생일 축하 노래를 출력하는 함수 happybirthday()를 작성하고 테스트 하시오\n",
    "def song(name):\n",
    "    print(\"Happy Birthday to you!\")\n",
    "    print(\"Happy Birthday to you!\")\n",
    "    print(\"Happy Birthday, dear %s\" %name)\n",
    "    print(\"Happy Birthday to you!\")\n",
    "\n",
    "user = input(\"이름이 무엇인가요? \")\n",
    "song(user)"
   ]
  },
  {
   "cell_type": "code",
   "execution_count": 4,
   "metadata": {},
   "outputs": [
    {
     "name": "stdout",
     "output_type": "stream",
     "text": [
      "첫번째 정수: 20\n",
      "두번째 정수: 30\n",
      "정수 20 + 30 의 합은? =  50\n"
     ]
    }
   ],
   "source": [
    "#chapter.07\n",
    "#7-6. 사용자로부터 2개의 정수를 받아서 수학 문제를 만들어서 화면에 출력하는 함수를 작성하고 테스트 하시오.\n",
    "def math(x,y):\n",
    "    return x+y\n",
    "\n",
    "x = int(input(\"첫번째 정수: \"))\n",
    "y = int(input(\"두번째 정수: \"))\n",
    "print(\"정수\" ,x ,\"+\", y ,\"의 합은? = \",math(x,y))"
   ]
  },
  {
   "cell_type": "code",
   "execution_count": 5,
   "metadata": {},
   "outputs": [
    {
     "name": "stdout",
     "output_type": "stream",
     "text": [
      "반지름이 5인 원의 면적 78.539800\n",
      "반지름이 5인 원의 둘레 31.415920\n"
     ]
    }
   ],
   "source": [
    "#chapter.07\n",
    "#7-7. 파이를 나타내는 PI = 3.14를 전역 변수로 하여 원의 면적을 계산하는 함수 circleArea(radius)과\n",
    "#원의 둘레를 계산하는 함수 circleCircumference(radius)를 작성하고 테스트하라. \n",
    "\n",
    "#7번\n",
    "PI = 3.141592\n",
    "radius =5\n",
    "def circleArea(radius):\n",
    "    return radius*radius*PI\n",
    "def circleCircumference(radius):\n",
    "    return 2*radius*PI\n",
    "\n",
    "print(\"반지름이 %d인 원의 면적 %f\" %(radius, circleArea(radius)))\n",
    "print(\"반지름이 %d인 원의 둘레 %f\" %(radius, circleCircumference(radius)))\n",
    "\n",
    "#HINT PI변수를 함수의 외부에서 생성하면 전역 변수가 된다. 전역 변수는 함수 안에서 사용 할 수 있다. "
   ]
  },
  {
   "cell_type": "code",
   "execution_count": 6,
   "metadata": {},
   "outputs": [
    {
     "name": "stdout",
     "output_type": "stream",
     "text": [
      "첫 번쨰 정수: 20\n",
      "두 번쨰 정수: 30\n",
      "(20 + 30) = 50\n",
      "(20 - 30) = -10\n",
      "(20 * 30) = 600\n",
      "(20 / 30) = 0.6666666666666666\n"
     ]
    }
   ],
   "source": [
    "#chapter.07\n",
    "#7-8. 덧쎔, 뺄셈, 곱셈, 나눗셈을 수행하는 함수를 각각 작성하고 테스트하라. \n",
    "def sum(a, b):\n",
    "    print(\"(%s + %s) = %s\"%(a, b, a+b))\n",
    "def minus(a, b):\n",
    "    print(\"(%s - %s) = %s\"%(a, b, a-b))\n",
    "def multiply(a, b):\n",
    "    print(\"(%s * %s) = %s\"%(a, b, a*b))\n",
    "def division(a, b):\n",
    "    print(\"(%s / %s) = %s\"%(a, b, a/b))\n",
    "\n",
    "n1 = int(input(\"첫 번쨰 정수: \"))\n",
    "n2 = int(input(\"두 번쨰 정수: \"))\n",
    "sum(n1, n2)\n",
    "minus(n1, n2)\n",
    "multiply(n1, n2)\n",
    "division(n1, n2)"
   ]
  }
 ],
 "metadata": {
  "kernelspec": {
   "display_name": "Python 3",
   "language": "python",
   "name": "python3"
  },
  "language_info": {
   "codemirror_mode": {
    "name": "ipython",
    "version": 3
   },
   "file_extension": ".py",
   "mimetype": "text/x-python",
   "name": "python",
   "nbconvert_exporter": "python",
   "pygments_lexer": "ipython3",
   "version": "3.7.6"
  }
 },
 "nbformat": 4,
 "nbformat_minor": 4
}
