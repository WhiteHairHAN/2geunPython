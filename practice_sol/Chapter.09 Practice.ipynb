{
 "cells": [
  {
   "cell_type": "code",
   "execution_count": 15,
   "metadata": {},
   "outputs": [
    {
     "name": "stdout",
     "output_type": "stream",
     "text": [
      "정수를 입력하시오: 10\n",
      "정수를 입력하시오: 20\n",
      "정수를 입력하시오: 10\n",
      "정수를 입력하시오: 20\n",
      "정수를 입력하시오: 15\n",
      "평균 = 15.0\n"
     ]
    }
   ],
   "source": [
    "#chapter.09\n",
    "#9-1. 사용자로부터 5개의 숫자를 읽어서 리스트에 저장하고 숫자들의 평균을 계산하여 출력하는 프로그램을 작성해 보자. \n",
    "\n",
    "number = []\n",
    "suma = 0\n",
    "result = 0\n",
    "for i in range(5):\n",
    "    x = int(input(\"정수를 입력하시오: \"))\n",
    "    number.append(x)\n",
    "    suma  = suma + number[i]\n",
    "print(\"평균 =\",suma / len(number))\n",
    "\n",
    "#HINT 공백 리스트를 생성하고 사용자한테서 받은 정수를 append()로 리스트에 추가한다.\n",
    "#리스트의 크기는 len(list)을 사용한다. len()은 내장 함수이다. "
   ]
  },
  {
   "cell_type": "code",
   "execution_count": 18,
   "metadata": {},
   "outputs": [
    {
     "name": "stdout",
     "output_type": "stream",
     "text": [
      "주사위가 1 인 경우는 150\n",
      "주사위가 2 인 경우는 159\n",
      "주사위가 3 인 경우는 166\n",
      "주사위가 4 인 경우는 158\n",
      "주사위가 5 인 경우는 193\n",
      "주사위가 6 인 경우는 174\n",
      "\n",
      "주사위를 던진 수는 : 1000\n"
     ]
    }
   ],
   "source": [
    "#chapter.09\n",
    "#9-2. 주사위를 던져서 나오는 값들의 빈도를 계산하는 프로글매을 작성해보자. 즉 1,2,3,4,5,6의 값이 각각 몇번이나 나오는지를 계산한다.\n",
    "#난수 발생 함수와 리스트를 사용해보자.\n",
    "\n",
    "import random\n",
    "counter=[0,0,0,0,0,0]\n",
    "\n",
    "for i in range(1,1001,1):\n",
    "    value = random.randint(1,6)\n",
    "    if value == 1:\n",
    "        counter[0] = counter[0] +1\n",
    "    elif value == 2:\n",
    "        counter[1] = counter[1] +1\n",
    "    elif value == 3:\n",
    "        counter[2] = counter[2] +1\n",
    "    elif value == 4:\n",
    "        counter[3] = counter[3] +1\n",
    "    elif value == 5:\n",
    "        counter[4] = counter[4] +1\n",
    "    elif value == 6:\n",
    "        counter[5] = counter[5] +1\n",
    "\n",
    "for x in range(6):\n",
    "    print(\"주사위가 %s 인 경우는 %s\" %(x+1, counter[x]))\n",
    "\n",
    "sum = counter[0] + counter[1] + counter[2] + counter[3] + counter[4] + counter[5]\n",
    "print(\"\\n주사위를 던진 수는 : %s\" %(sum))"
   ]
  },
  {
   "cell_type": "code",
   "execution_count": 21,
   "metadata": {},
   "outputs": [
    {
     "name": "stdout",
     "output_type": "stream",
     "text": [
      "주사위가  1 인 경우는 159\n",
      "주사위가  2 인 경우는 160\n",
      "주사위가  3 인 경우는 187\n",
      "주사위가  4 인 경우는 160\n",
      "주사위가  5 인 경우는 162\n",
      "주사위가  6 인 경우는 172\n"
     ]
    }
   ],
   "source": [
    "#chapter.09\n",
    "#9-2. 주사위를 던져서 나오는 값들의 빈도를 계산하는 프로글매을 작성해보자. 즉 1,2,3,4,5,6의 값이 각각 몇번이나 나오는지를 계산한다.\n",
    "#난수 발생 함수와 리스트를 사용해보자.\n",
    "#코드 쉬운 버전\n",
    "import random \n",
    "counters=[0,0,0,0,0,0]\n",
    "for i in range (1000):\n",
    "    value = random.randint(0,5)\n",
    "    counters[value] = counters[value] +1\n",
    "for j in range(6):\n",
    "    print(\"주사위가 \",j+1,\"인 경우는\", counters[j])"
   ]
  },
  {
   "cell_type": "code",
   "execution_count": 24,
   "metadata": {},
   "outputs": [
    {
     "name": "stdout",
     "output_type": "stream",
     "text": [
      "(입력모드)이름을 입력하시오:32\n",
      "전화번호를 입력하시오:32\n",
      "(입력모드)이름을 입력하시오:\n",
      "(검색모드)이름을 입력하시오:\n"
     ]
    },
    {
     "ename": "KeyError",
     "evalue": "''",
     "output_type": "error",
     "traceback": [
      "\u001b[1;31m---------------------------------------------------------------------------\u001b[0m",
      "\u001b[1;31mKeyError\u001b[0m                                  Traceback (most recent call last)",
      "\u001b[1;32m<ipython-input-24-a0797a4a94dc>\u001b[0m in \u001b[0;36m<module>\u001b[1;34m\u001b[0m\n\u001b[0;32m     13\u001b[0m \u001b[1;32mwhile\u001b[0m \u001b[1;32mTrue\u001b[0m\u001b[1;33m:\u001b[0m\u001b[1;33m\u001b[0m\u001b[1;33m\u001b[0m\u001b[0m\n\u001b[0;32m     14\u001b[0m     \u001b[0mname2\u001b[0m \u001b[1;33m=\u001b[0m \u001b[0minput\u001b[0m\u001b[1;33m(\u001b[0m\u001b[1;34m\"(검색모드)이름을 입력하시오:\"\u001b[0m\u001b[1;33m)\u001b[0m\u001b[1;33m\u001b[0m\u001b[1;33m\u001b[0m\u001b[0m\n\u001b[1;32m---> 15\u001b[1;33m     \u001b[0mprint\u001b[0m\u001b[1;33m(\u001b[0m\u001b[0mname2\u001b[0m\u001b[1;33m,\u001b[0m \u001b[1;34m\"의 전화번호는\"\u001b[0m\u001b[1;33m,\u001b[0m \u001b[0mcontacts\u001b[0m\u001b[1;33m[\u001b[0m\u001b[0mname2\u001b[0m\u001b[1;33m]\u001b[0m\u001b[1;33m,\u001b[0m \u001b[1;34m\"입니다.\"\u001b[0m\u001b[1;33m)\u001b[0m\u001b[1;33m\u001b[0m\u001b[1;33m\u001b[0m\u001b[0m\n\u001b[0m\u001b[0;32m     16\u001b[0m     \u001b[1;32mif\u001b[0m \u001b[1;32mnot\u001b[0m \u001b[0mname\u001b[0m\u001b[1;33m:\u001b[0m\u001b[1;33m\u001b[0m\u001b[1;33m\u001b[0m\u001b[0m\n\u001b[0;32m     17\u001b[0m         \u001b[1;32mbreak\u001b[0m\u001b[1;33m\u001b[0m\u001b[1;33m\u001b[0m\u001b[0m\n",
      "\u001b[1;31mKeyError\u001b[0m: ''"
     ]
    }
   ],
   "source": [
    "#chapter.09\n",
    "#9-3. 딕셔너리를 사용하여서 친구들의 이름과 전화번호를 저장해보자. 사용자로부터 친구들의 이름과 전화번호를 입력받고\n",
    "#딕셔너리에 저장한다. 이름을 입력하지 않고 엔터키를 치면 검색모드가 된다.\n",
    "#검색모드에서는 친구들의 이름으로 전화번호를 검색할 수 있도록 한다. \n",
    "\n",
    "contacts = {}\n",
    "while True:\n",
    "    name = input(\"(입력모드)이름을 입력하시오:\")\n",
    "    if not name:\n",
    "        break\n",
    "    tel = input(\"전화번호를 입력하시오:\")\n",
    "    contacts[name] = tel\n",
    "while True:\n",
    "    name2 = input(\"(검색모드)이름을 입력하시오:\")\n",
    "    print(name2, \"의 전화번호는\", contacts[name2], \"입니다.\")\n",
    "    if not name:\n",
    "        break"
   ]
  },
  {
   "cell_type": "code",
   "execution_count": 25,
   "metadata": {},
   "outputs": [
    {
     "name": "stdout",
     "output_type": "stream",
     "text": [
      "kr : 대한민국\n",
      "sk : 슬로바키아\n",
      "no : 노르웨이\n",
      "us : 미국\n",
      "jp : 일본\n",
      "hu : 헝가리\n",
      "de : 독일\n"
     ]
    }
   ],
   "source": [
    "#chapter.09\n",
    "#9-7. 인터넷 도메인의 약자와 해당되는 국가를 딕셔너리에 저장해보자. 예를 들어서 \"kr\"은 \n",
    "#대한민국으로 저장되어야 한다. 딕셔너리를 순회하면서 모든 키와 값을 출력하는 프로그램을 작성해보자\n",
    "\n",
    "domain = {\"kr\" : \"대한민국\", \n",
    "          \"sk\" : \"슬로바키아\", \n",
    "          \"no\" : \"노르웨이\", \n",
    "          \"us\" : \"미국\", \n",
    "          \"jp\" : \"일본\", \n",
    "          \"hu\" : \"헝가리\", \n",
    "          \"de\" : \"독일\"}\n",
    "\n",
    "for k, v in domain.items():\n",
    "    print(k, \":\", v)"
   ]
  },
  {
   "cell_type": "code",
   "execution_count": 26,
   "metadata": {},
   "outputs": [
    {
     "name": "stdout",
     "output_type": "stream",
     "text": [
      "다음은 어떤 단어에 대한 설명일까요?\n",
      "최근에 가장 떠오르는 프로그래밍 언어\n",
      "(1)파이썬 (2)함수 (3)리스트 (4)변수\n",
      "파이썬\n",
      "다음은 어떤 단어에 대한 설명일까요?\n",
      "데이터를 저장하는 메모리 공간\n",
      "(1)파이썬 (2)함수 (3)리스트 (4)변수\n",
      "변수\n",
      "다음은 어떤 단어에 대한 설명일까요?\n",
      "작업을 수행하는 문장들의 집합에 이름을 붙인것\n",
      "(1)파이썬 (2)함수 (3)리스트 (4)변수\n",
      "리스트\n",
      "다음은 어떤 단어에 대한 설명일까요?\n",
      "서로 관련이 없는 항목들의 모임\n",
      "(1)파이썬 (2)함수 (3)리스트 (4)변수\n",
      "변수\n",
      "정답이 아닙니다. !\n"
     ]
    }
   ],
   "source": [
    "#chapter.09\n",
    "#9-8. 딕셔너리에 문제와 정답을 저장하고 하나씩 꺼내서 사용자에게 제시하는 프로그램을 작성해보자. \n",
    "#사용자는 문자열로 답해야 한다. 번호로 답할 수는 없다. \n",
    "\n",
    "problems = {'파이썬' : '최근에 가장 떠오르는 프로그래밍 언어',\n",
    "            '변수' : '데이터를 저장하는 메모리 공간',\n",
    "            '함수' : '작업을 수행하는 문장들의 집합에 이름을 붙인것',\n",
    "            '리스트' : '서로 관련이 없는 항목들의 모임'\n",
    "           }\n",
    "\n",
    "for word in problems.keys():\n",
    "    print(\"다음은 어떤 단어에 대한 설명일까요?\")\n",
    "    print(problems[word])\n",
    "    print(\"(1)파이썬 (2)함수 (3)리스트 (4)변수\")\n",
    "    ans = input()\n",
    "\n",
    "if ans ==word:\n",
    "    print(\"정답입니다. !\")\n",
    "else:\n",
    "    print(\"정답이 아닙니다. !\")"
   ]
  }
 ],
 "metadata": {
  "kernelspec": {
   "display_name": "Python 3",
   "language": "python",
   "name": "python3"
  },
  "language_info": {
   "codemirror_mode": {
    "name": "ipython",
    "version": 3
   },
   "file_extension": ".py",
   "mimetype": "text/x-python",
   "name": "python",
   "nbconvert_exporter": "python",
   "pygments_lexer": "ipython3",
   "version": "3.7.6"
  }
 },
 "nbformat": 4,
 "nbformat_minor": 4
}
