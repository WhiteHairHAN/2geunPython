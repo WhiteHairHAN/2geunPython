{
 "cells": [
  {
   "cell_type": "code",
   "execution_count": 11,
   "metadata": {},
   "outputs": [
    {
     "name": "stdout",
     "output_type": "stream",
     "text": [
      "반지름이 5인 원의 면적 78.539800\n",
      "반지름이 5인 원의 둘레 31.415920\n"
     ]
    }
   ],
   "source": [
    "PI = 3.141592\n",
    "radius =5\n",
    "def circleArea(radius):\n",
    "    return radius*radius*PI\n",
    "def circleCircumference(radius):\n",
    "    return 2*radius*PI\n",
    "\n",
    "print(\"반지름이 %d인 원의 면적 %f\" %(radius, circleArea(radius)))\n",
    "print(\"반지름이 %d인 원의 둘레 %f\" %(radius, circleCircumference(radius)))"
   ]
  }
 ],
 "metadata": {
  "kernelspec": {
   "display_name": "Python 3",
   "language": "python",
   "name": "python3"
  },
  "language_info": {
   "codemirror_mode": {
    "name": "ipython",
    "version": 3
   },
   "file_extension": ".py",
   "mimetype": "text/x-python",
   "name": "python",
   "nbconvert_exporter": "python",
   "pygments_lexer": "ipython3",
   "version": "3.7.6"
  }
 },
 "nbformat": 4,
 "nbformat_minor": 4
}
