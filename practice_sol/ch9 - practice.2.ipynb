{
 "cells": [
  {
   "cell_type": "code",
   "execution_count": 5,
   "metadata": {},
   "outputs": [
    {
     "name": "stdout",
     "output_type": "stream",
     "text": [
      "주사위가 1 인 경우는 163\n",
      "주사위가 2 인 경우는 165\n",
      "주사위가 3 인 경우는 192\n",
      "주사위가 4 인 경우는 170\n",
      "주사위가 5 인 경우는 151\n",
      "주사위가 6 인 경우는 159\n",
      "\n",
      "주사위를 던진 수는 : 1000\n"
     ]
    }
   ],
   "source": [
    "import random\n",
    "counter=[0,0,0,0,0,0]\n",
    "\n",
    "for i in range(1,1001,1):\n",
    "    value = random.randint(1,6)\n",
    "    if value == 1:\n",
    "        counter[0] = counter[0] +1\n",
    "    elif value == 2:\n",
    "        counter[1] = counter[1] +1\n",
    "    elif value == 3:\n",
    "        counter[2] = counter[2] +1\n",
    "    elif value == 4:\n",
    "        counter[3] = counter[3] +1\n",
    "    elif value == 5:\n",
    "        counter[4] = counter[4] +1\n",
    "    elif value == 6:\n",
    "        counter[5] = counter[5] +1\n",
    "\n",
    "for x in range(6):\n",
    "    print(\"주사위가 %s 인 경우는 %s\" %(x+1, counter[x]))\n",
    "\n",
    "sum = counter[0] + counter[1] + counter[2] + counter[3] + counter[4] + counter[5]\n",
    "print(\"\\n주사위를 던진 수는 : %s\" %(sum))"
   ]
  }
 ],
 "metadata": {
  "kernelspec": {
   "display_name": "Python 3",
   "language": "python",
   "name": "python3"
  },
  "language_info": {
   "codemirror_mode": {
    "name": "ipython",
    "version": 3
   },
   "file_extension": ".py",
   "mimetype": "text/x-python",
   "name": "python",
   "nbconvert_exporter": "python",
   "pygments_lexer": "ipython3",
   "version": "3.7.6"
  }
 },
 "nbformat": 4,
 "nbformat_minor": 4
}
